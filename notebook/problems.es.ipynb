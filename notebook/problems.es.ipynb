{
 "cells": [
  {
   "cell_type": "markdown",
   "id": "d9d036c6",
   "metadata": {},
   "source": [
    "# Problemas de prueba de hipótesis"
   ]
  },
  {
   "cell_type": "code",
   "execution_count": 1,
   "id": "bafd3995",
   "metadata": {},
   "outputs": [],
   "source": [
    "from scipy.stats import ttest_ind, t\n",
    "import matplotlib.pyplot as plt\n",
    "from scipy.stats import f_oneway\n",
    "import numpy as np\n",
    "from statsmodels.stats.multicomp import pairwise_tukeyhsd"
   ]
  },
  {
   "cell_type": "markdown",
   "id": "d157c4db",
   "metadata": {},
   "source": [
    "## Ejercicio 1\n",
    "\n",
    "Usted es un nutricionista que investiga dos tipos diferentes de dietas para ver si existe una diferencia significativa en la pérdida de peso después de un mes. Eliges dos grupos aleatorios de personas; un grupo sigue la primera dieta y el otro sigue la segunda. Al final del mes, se registra la pérdida de peso (en kg) de cada persona:\n",
    "\n",
    "| Diet 1 | Diet 2 |\n",
    "|:-------|:-------|\n",
    "| 2.0 | 3.0 |\n",
    "| 2.5 | 3.2 |\n",
    "| 3.0 | 3.1 |\n",
    "| 2.8 | 2.9 |\n",
    "| 2.3 | 2.8 |\n",
    "| 2.7 | 3.0 |\n",
    "| 2.5 | 3.2 |\n",
    "\n",
    "Con estos datos se busca responder a la siguiente pregunta: ¿Existe una diferencia significativa en la pérdida de peso promedio entre las personas que siguieron la primera dieta y las que siguieron la segunda dieta?\n",
    "\n",
    "Para sacar conclusiones, siga los siguientes puntos:\n",
    "\n",
    "-Enunciar la hipótesis: hipótesis nula y alternativa.\n",
    "-Realizar la prueba para comprobar la hipótesis. Puede utilizar la prueba t de Student.\n",
    "-Analizar las conclusiones."
   ]
  },
  {
   "cell_type": "code",
   "execution_count": 18,
   "id": "8e0f3cf0",
   "metadata": {},
   "outputs": [
    {
     "name": "stdout",
     "output_type": "stream",
     "text": [
      "Promedio Dieta 1: 2.543 kg\n",
      "Promedio Dieta 2: 3.029 kg\n",
      "Estadistico t = -3.538\n",
      "Valor p = 0.004\n",
      "Rechazamos H0:\n",
      "Hay evidencia de que las dietas tienen efectos diferentes en la pérdida de peso\n",
      "**p < 0.01\n"
     ]
    }
   ],
   "source": [
    "#  1. Definir las hipótesis: Comparación de dietas\n",
    "# Hipótesis nula (H0): No hay diferencia significativa entre la pérdida de peso promedio de las dos dietas\n",
    "# Hipótesis alternativa (H1): la diferencia en bajada de peso promedio es diferente entre las dos dietas.\n",
    "\n",
    "# 2. Elegir el nivel de significación\n",
    "\n",
    "alpha = 0.05\n",
    "\n",
    "# 3. Verificar hipótesis\n",
    "# Datos:\n",
    "\n",
    "diet_1 = np.array([2, 2.5, 3.0, 2.8, 2.3, 2.7, 2.5])\n",
    "diet_2 = np.array([3.0, 3.2, 3.1, 2.9, 2.8, 3.0, 3.2])\n",
    "\n",
    "# Calculos descriptivos\n",
    "\n",
    "mean_1 = np.mean(diet_1)\n",
    "mean_2 = np.mean(diet_2)\n",
    "\n",
    "print(f'Promedio Dieta 1: {mean_1:.3f} kg')\n",
    "print(f'Promedio Dieta 2: {mean_2:.3f} kg')\n",
    "\n",
    "# Prueba t de Student para muestras independientes\n",
    "\n",
    "t_stat, p_value = ttest_ind(diet_1, diet_2)\n",
    "\n",
    "print(f'Estadistico t = {t_stat:.3f}')\n",
    "print(f'Valor p = {p_value:.3f}')\n",
    "\n",
    "# 4. Decisión estadística\n",
    "\n",
    "if p_value < alpha:\n",
    "    print(\"Rechazamos H0:\\nHay evidencia de que las dietas tienen efectos diferentes en la pérdida de peso\")\n",
    "else:\n",
    "    print(\"No rechazamos H0:\\nNo hay evidencia suficiente para afirmar que las dietas tienen efectos diferentes en la pérdida de peso\")\n",
    "\n",
    "# Nivel de significancia\n",
    "\n",
    "a = 0.001\n",
    "b = 0.01\n",
    "c = 0.05\n",
    "\n",
    "if p_value < a:\n",
    "    significance = '***'\n",
    "    print(f'{significance}p < {a}')\n",
    "elif p_value < b:\n",
    "    significance = '**'\n",
    "    print(f'{significance}p < {b}')\n",
    "elif p_value < c:\n",
    "    significance = '*'\n",
    "    print(f'{significance}p < {c}')\n",
    "else:\n",
    "    significance = 'ns'\n",
    "    print(f'p ≥ {c} {significance}')\n",
    "\n"
   ]
  },
  {
   "cell_type": "code",
   "execution_count": null,
   "id": "e26355d4",
   "metadata": {},
   "outputs": [
    {
     "name": "stderr",
     "output_type": "stream",
     "text": [
      "/tmp/ipykernel_643/3306212370.py:3: MatplotlibDeprecationWarning: The 'labels' parameter of boxplot() has been renamed 'tick_labels' since Matplotlib 3.9; support for the old name will be dropped in 3.11.\n",
      "  plt.boxplot([diet_1, diet_2], labels=['Dieta 1', 'Dieta 2'])\n"
     ]
    },
    {
     "data": {
      "image/png": "[encoded data removed]",
      "text/plain": [
       "<Figure size 640x480 with 1 Axes>"
      ]
     },
     "metadata": {},
     "output_type": "display_data"
    }
   ],
   "source": [
    "# Visualización\n",
    "\n",
    "plt.boxplot([diet_1, diet_2], labels=['Dieta 1', 'Dieta 2'])\n",
    "plt.title('Comparación de pérdida de peso entre dos dietas')\n",
    "plt.ylabel('Pérdida de peso (kg)')\n",
    "\n",
    "plt.show()\n"
   ]
  },
  {
   "cell_type": "markdown",
   "id": "16f1a5ab",
   "metadata": {},
   "source": [
    "En la gráfica se observa que la Dieta 2 logra una mayor pérdida de peso promedio en comparación con la Dieta 1, y la diferencia es estadísticamente significativa (**p < 0.01)."
   ]
  },
  {
   "cell_type": "markdown",
   "id": "f432e18e",
   "metadata": {},
   "source": [
    "## ANOVA\n",
    "\n",
    "**ANOVA** (*Analysis of Variance - Análisis de variación*) Es una técnica estadística utilizada para comparar las medidas de dos o más grupos. La idea detrás de ANOVA es descomponer la variabilidad total de los datos en dos componentes: variabilidad entre grupos y variabilidad dentro de los grupos:\n",
    "\n",
    "- **Variabilidad entre grupos**: Esta variabilidad se refiere a las diferencias entre las medias del grupo. Si esta variabilidad es considerablemente mayor que la variabilidad dentro del grupo, podría ser una indicación de que al menos una de las medias del grupo es diferente.\n",
    "- **Variabilidad dentro del grupo**: Esta variabilidad se refiere a la dispersión de los datos dentro de cada grupo. Si todos los grupos tienen una variabilidad similar, entonces cualquier diferencia notable en las medias de los grupos podría considerarse significativa.\n",
    "\n",
    "Las hipótesis en ANOVA suelen incluir:\n",
    "\n",
    "- **Hipótesis nula** ($H₀$): Las medias de todos los grupos son iguales.\n",
    "- **Hipótesis alternativa** ($H₁$): Al menos una de las medias del grupo es diferente.\n",
    "\n",
    "Si el resultado de la prueba ANOVA es significativo (por ejemplo, un valor p inferior a un umbral como 0,05), esto sugiere que al menos la media de un grupo es diferente."
   ]
  },
  {
   "cell_type": "markdown",
   "id": "fc5f3721",
   "metadata": {},
   "source": [
    "## Ejercicio 2\n",
    "\n",
    "Un agricultor decide probar tres tipos diferentes de fertilizantes para determinar si alguno es superior en términos de producción de maíz. El agricultor planta maíz en 15 parcelas idénticas y utiliza los tres fertilizantes (5 parcelas para cada tipo). Al final de la temporada mide el rendimiento de maíz (en kg) de cada parcela, con el siguiente resultado:\n",
    "\n",
    "| Fertilizante 1 | Fertilizante 2 | Fertilizante 3 |\n",
    "|:-------------|:-------------|:-------------|\n",
    "| 20 | 22 | 24 |\n",
    "| 21 | 21 | 23 |\n",
    "| 20 | 23 | 22 |\n",
    "| 19 | 22 | 23 |\n",
    "| 20 | 21 | 24 |\n",
    "\n",
    "Con estos datos busca responder la siguiente pregunta: ¿Existe una diferencia significativa en el rendimiento promedio del maíz entre los tres tipos de fertilizantes?\n",
    "\n",
    "Para ayudarte, sigue los siguientes puntos:\n",
    "\n",
    "-Enunciar la hipótesis: hipótesis nula y alternativa.\n",
    "-Realizar la prueba ANOVA.\n",
    "-Analizar las conclusiones.\n",
    "-Si un fertilizante es mejor que otro, ¿cómo podemos saberlo?"
   ]
  },
  {
   "cell_type": "code",
   "execution_count": null,
   "id": "eecad0ca",
   "metadata": {},
   "outputs": [
    {
     "name": "stdout",
     "output_type": "stream",
     "text": [
      "Promedio fertilizante_1: 20.000, promedio fertilizante_2: 21.800 y promedio fetilizante_3: 23.200\n",
      "Estadistico f = 20.316\n",
      "Valor p = 0.0001\n",
      "Rechazamos la hipótesis nula: Existen diferencias significativas entre los rendimientos de los fertilizantes\n"
     ]
    }
   ],
   "source": [
    "# Hipótesis nula: No existen diferencia significativa entre el rendimiento promedio de los fertilizantes\n",
    "# Hipótesis alternativa: Existen diferencias significativas entre el rendimiento promedio de los fertilizantes\n",
    "\n",
    "\n",
    "fertilizante_1 = np.array([20, 21, 20, 19, 20])\n",
    "fertilizante_2 = np.array([22, 21, 23, 22, 21])\n",
    "fertilizante_3 = np.array([24, 23, 22, 23, 24])\n",
    "\n",
    "promedio_1 = sum(fertilizante_1)/ len(fertilizante_1)\n",
    "promedio_2 = sum(fertilizante_2)/ len(fertilizante_2)\n",
    "promedio_3 = sum(fertilizante_3)/ len(fertilizante_3)\n",
    "\n",
    "print(f'Promedio fertilizante_1: {promedio_1:.3f}, promedio fertilizante_2: {promedio_2:.3f} y promedio fetilizante_3: {promedio_3:.3f}')\n",
    "\n",
    "f_stat, p_value = f_oneway(fertilizante_1, fertilizante_2, fertilizante_3)\n",
    "\n",
    "print(f'Estadistico f = {f_stat:.3f}')\n",
    "print(f'Valor p = {p_value:.4f}')\n",
    "\n",
    "alpha = 0.05\n",
    "\n",
    "if p_value < alpha:\n",
    "    print(\"Rechazamos la hipótesis nula: Existen diferencias significativas entre los rendimientos de los fertilizantes\")\n",
    "else:\n",
    "    print(\"No rechazamos la hipótesis nula: No hay evidencia suficiente para afirmar que los rendimientos sean diferentes\")\n"
   ]
  },
  {
   "cell_type": "code",
   "execution_count": null,
   "id": "7f2dddca",
   "metadata": {},
   "outputs": [
    {
     "name": "stdout",
     "output_type": "stream",
     "text": [
      "Multiple Comparison of Means - Tukey HSD, FWER=0.05\n",
      "==================================================\n",
      "group1 group2 meandiff p-adj  lower  upper  reject\n",
      "--------------------------------------------------\n",
      "    F1     F2      1.8 0.0099 0.4572 3.1428   True\n",
      "    F1     F3      3.2 0.0001 1.8572 4.5428   True\n",
      "    F2     F3      1.4 0.0409 0.0572 2.7428   True\n",
      "--------------------------------------------------\n",
      "El mejor fertilizante es F3, porque la diferencia de medias es mayor\n"
     ]
    }
   ],
   "source": [
    "data = np.concatenate([fertilizante_1, fertilizante_2, fertilizante_3])\n",
    "labels = [\"F1\"] * len(fertilizante_1) + [\"F2\"] * len(fertilizante_2) + [\"F3\"] * len(fertilizante_3)\n",
    "alpha = 0.05\n",
    "\n",
    "# Tukey\n",
    "tukey = pairwise_tukeyhsd(data, labels, alpha)\n",
    "print(tukey)\n",
    "\n",
    "print(\"El mejor fertilizante es F3, porque la diferencia de medias es mayor\")"
   ]
  }
 ],
 "metadata": {
  "kernelspec": {
   "display_name": "Python 3",
   "language": "python",
   "name": "python3"
  },
  "language_info": {
   "codemirror_mode": {
    "name": "ipython",
    "version": 3
   },
   "file_extension": ".py",
   "mimetype": "text/x-python",
   "name": "python",
   "nbconvert_exporter": "python",
   "pygments_lexer": "ipython3",
   "version": "3.11.4"
  }
 },
 "nbformat": 4,
 "nbformat_minor": 5
}
